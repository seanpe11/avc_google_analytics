{
 "cells": [
  {
   "cell_type": "code",
   "execution_count": 1,
   "id": "f18f0ebe",
   "metadata": {
    "scrolled": true
   },
   "outputs": [
    {
     "name": "stdout",
     "output_type": "stream",
     "text": [
      "Defaulting to user installation because normal site-packages is not writeable\n",
      "Requirement already satisfied: google-analytics-data in /home/seanpe/.local/lib/python3.10/site-packages (0.16.1)\n",
      "Requirement already satisfied: protobuf!=3.20.0,!=3.20.1,!=4.21.0,!=4.21.1,!=4.21.2,!=4.21.3,!=4.21.4,!=4.21.5,<5.0.0dev,>=3.19.5 in /home/seanpe/.local/lib/python3.10/site-packages (from google-analytics-data) (4.22.0)\n",
      "Requirement already satisfied: proto-plus<2.0.0dev,>=1.22.0 in /home/seanpe/.local/lib/python3.10/site-packages (from google-analytics-data) (1.22.2)\n",
      "Requirement already satisfied: google-api-core[grpc]!=2.0.*,!=2.1.*,!=2.10.*,!=2.2.*,!=2.3.*,!=2.4.*,!=2.5.*,!=2.6.*,!=2.7.*,!=2.8.*,!=2.9.*,<3.0.0dev,>=1.34.0 in /home/seanpe/.local/lib/python3.10/site-packages (from google-analytics-data) (2.11.0)\n",
      "Requirement already satisfied: googleapis-common-protos<2.0dev,>=1.56.2 in /home/seanpe/.local/lib/python3.10/site-packages (from google-api-core[grpc]!=2.0.*,!=2.1.*,!=2.10.*,!=2.2.*,!=2.3.*,!=2.4.*,!=2.5.*,!=2.6.*,!=2.7.*,!=2.8.*,!=2.9.*,<3.0.0dev,>=1.34.0->google-analytics-data) (1.58.0)\n",
      "Requirement already satisfied: requests<3.0.0dev,>=2.18.0 in /usr/lib/python3/dist-packages (from google-api-core[grpc]!=2.0.*,!=2.1.*,!=2.10.*,!=2.2.*,!=2.3.*,!=2.4.*,!=2.5.*,!=2.6.*,!=2.7.*,!=2.8.*,!=2.9.*,<3.0.0dev,>=1.34.0->google-analytics-data) (2.25.1)\n",
      "Requirement already satisfied: google-auth<3.0dev,>=2.14.1 in /home/seanpe/.local/lib/python3.10/site-packages (from google-api-core[grpc]!=2.0.*,!=2.1.*,!=2.10.*,!=2.2.*,!=2.3.*,!=2.4.*,!=2.5.*,!=2.6.*,!=2.7.*,!=2.8.*,!=2.9.*,<3.0.0dev,>=1.34.0->google-analytics-data) (2.16.2)\n",
      "Requirement already satisfied: grpcio-status<2.0dev,>=1.33.2 in /home/seanpe/.local/lib/python3.10/site-packages (from google-api-core[grpc]!=2.0.*,!=2.1.*,!=2.10.*,!=2.2.*,!=2.3.*,!=2.4.*,!=2.5.*,!=2.6.*,!=2.7.*,!=2.8.*,!=2.9.*,<3.0.0dev,>=1.34.0->google-analytics-data) (1.51.3)\n",
      "Requirement already satisfied: grpcio<2.0dev,>=1.33.2 in /home/seanpe/.local/lib/python3.10/site-packages (from google-api-core[grpc]!=2.0.*,!=2.1.*,!=2.10.*,!=2.2.*,!=2.3.*,!=2.4.*,!=2.5.*,!=2.6.*,!=2.7.*,!=2.8.*,!=2.9.*,<3.0.0dev,>=1.34.0->google-analytics-data) (1.51.3)\n",
      "Requirement already satisfied: rsa<5,>=3.1.4 in /home/seanpe/.local/lib/python3.10/site-packages (from google-auth<3.0dev,>=2.14.1->google-api-core[grpc]!=2.0.*,!=2.1.*,!=2.10.*,!=2.2.*,!=2.3.*,!=2.4.*,!=2.5.*,!=2.6.*,!=2.7.*,!=2.8.*,!=2.9.*,<3.0.0dev,>=1.34.0->google-analytics-data) (4.9)\n",
      "Requirement already satisfied: cachetools<6.0,>=2.0.0 in /home/seanpe/.local/lib/python3.10/site-packages (from google-auth<3.0dev,>=2.14.1->google-api-core[grpc]!=2.0.*,!=2.1.*,!=2.10.*,!=2.2.*,!=2.3.*,!=2.4.*,!=2.5.*,!=2.6.*,!=2.7.*,!=2.8.*,!=2.9.*,<3.0.0dev,>=1.34.0->google-analytics-data) (5.3.0)\n",
      "Requirement already satisfied: pyasn1-modules>=0.2.1 in /home/seanpe/.local/lib/python3.10/site-packages (from google-auth<3.0dev,>=2.14.1->google-api-core[grpc]!=2.0.*,!=2.1.*,!=2.10.*,!=2.2.*,!=2.3.*,!=2.4.*,!=2.5.*,!=2.6.*,!=2.7.*,!=2.8.*,!=2.9.*,<3.0.0dev,>=1.34.0->google-analytics-data) (0.2.8)\n",
      "Requirement already satisfied: six>=1.9.0 in /usr/lib/python3/dist-packages (from google-auth<3.0dev,>=2.14.1->google-api-core[grpc]!=2.0.*,!=2.1.*,!=2.10.*,!=2.2.*,!=2.3.*,!=2.4.*,!=2.5.*,!=2.6.*,!=2.7.*,!=2.8.*,!=2.9.*,<3.0.0dev,>=1.34.0->google-analytics-data) (1.16.0)\n",
      "Requirement already satisfied: pyasn1<0.5.0,>=0.4.6 in /home/seanpe/.local/lib/python3.10/site-packages (from pyasn1-modules>=0.2.1->google-auth<3.0dev,>=2.14.1->google-api-core[grpc]!=2.0.*,!=2.1.*,!=2.10.*,!=2.2.*,!=2.3.*,!=2.4.*,!=2.5.*,!=2.6.*,!=2.7.*,!=2.8.*,!=2.9.*,<3.0.0dev,>=1.34.0->google-analytics-data) (0.4.8)\n",
      "Note: you may need to restart the kernel to use updated packages.\n"
     ]
    }
   ],
   "source": [
    "# recommended to use virtual env to install pip package\n",
    "# see link official docs for installation reference: https://github.com/googleapis/python-analytics-data#installation\n",
    "%pip install google-analytics-data"
   ]
  },
  {
   "cell_type": "code",
   "execution_count": 2,
   "id": "5d3092ee",
   "metadata": {},
   "outputs": [],
   "source": [
    "import datetime\n",
    "import pandas as pd\n",
    "import numpy as np"
   ]
  },
  {
   "cell_type": "code",
   "execution_count": 3,
   "id": "1515036a",
   "metadata": {},
   "outputs": [],
   "source": [
    "from google.analytics.data_v1beta import BetaAnalyticsDataClient\n",
    "from google.analytics.data_v1beta.types import (\n",
    "    DateRange,\n",
    "    Dimension,\n",
    "    Metric,\n",
    "    RunReportRequest,\n",
    "    OrderBy,\n",
    ")"
   ]
  },
  {
   "cell_type": "code",
   "execution_count": null,
   "id": "f9b82d9b",
   "metadata": {},
   "outputs": [],
   "source": []
  },
  {
   "cell_type": "code",
   "execution_count": 4,
   "id": "49a85b82",
   "metadata": {},
   "outputs": [],
   "source": [
    "# modified from official google docs for GA4: \n",
    "# https://developers.google.com/analytics/devguides/reporting/data/v1/quickstart-client-libraries\n",
    "\n",
    "def pull_from_ga_into_df(dimensions, metrics, order_by):\n",
    "    \"\"\"Runs a simple report on a Google Analytics 4 property.\"\"\"\n",
    "    # TODO(developer): Uncomment this variable and replace with your\n",
    "    #  Google Analytics 4 property ID before running the sample.\n",
    "    # property_id = \"YOUR-GA4-PROPERTY-ID\"\n",
    "\n",
    "    # Using a default constructor instructs the client to use the credentials\n",
    "    # specified in GOOGLE_APPLICATION_CREDENTIALS environment variable.\n",
    "    client = BetaAnalyticsDataClient()\n",
    "    property_id=\"353368209\"\n",
    "\n",
    "    request = RunReportRequest(\n",
    "        property=f\"properties/{property_id}\",\n",
    "        dimensions=[Dimension(name=d) for d in dimensions],\n",
    "        metrics=[Metric(name=m) for m in metrics],\n",
    "        date_ranges=[DateRange(start_date=\"30daysAgo\", end_date=\"today\")],\n",
    "        order_bys=[OrderBy(desc=True, dimension=OrderBy.DimensionOrderBy(dimension_name=order_by))]\n",
    "    )\n",
    "    response = client.run_report(request)\n",
    "    \n",
    "    ## process into pd dataframe\n",
    "    \n",
    "    # get headers\n",
    "    data_dict = {}\n",
    "    for d in response.dimension_headers:\n",
    "        data_dict[d.name] = []\n",
    "\n",
    "    for m in response.metric_headers:\n",
    "        data_dict[m.name] = []\n",
    "\n",
    "    # insert into dictionary\n",
    "    for r in response.rows:\n",
    "        vals = [v.value for v in [*r.dimension_values, *r.metric_values]]\n",
    "        for i, key in enumerate(data_dict):\n",
    "            data_dict[key].append(vals[i])\n",
    "\n",
    "    df = pd.DataFrame(data=data_dict)\n",
    "    \n",
    "    return df"
   ]
  },
  {
   "cell_type": "code",
   "execution_count": 5,
   "id": "309196a3",
   "metadata": {},
   "outputs": [],
   "source": [
    "def cast_types(df, type_map):\n",
    "    pass"
   ]
  },
  {
   "cell_type": "code",
   "execution_count": 6,
   "id": "e825eb1b",
   "metadata": {},
   "outputs": [],
   "source": [
    "query_map = {}"
   ]
  },
  {
   "cell_type": "code",
   "execution_count": 7,
   "id": "62198038",
   "metadata": {},
   "outputs": [],
   "source": [
    "query_map[\"AudienceOverview\"] = {\n",
    "    \"metrics\": [\n",
    "        \"averageSessionDuration\",\n",
    "        \"bounceRate\",\n",
    "        \"newUsers\",\n",
    "        \"sessionsPerUser\",\n",
    "        \"screenPageViewsPerSession\",\n",
    "        \"screenPageViews\",\n",
    "        \"sessions\",\n",
    "        \"activeUsers\", # not sure if this is what we want for the api\n",
    "    ],\n",
    "    \"dimensions\": [\n",
    "        \"date\",\n",
    "        \"hostName\"\n",
    "    ],\n",
    "    \"order_by\": \"date\"\n",
    "}"
   ]
  },
  {
   "cell_type": "code",
   "execution_count": 8,
   "id": "3efef9e8",
   "metadata": {},
   "outputs": [
    {
     "ename": "DefaultCredentialsError",
     "evalue": "File /media/seanpe/Data/Work/UnicornConnect/avc_google_analytics/service-account.json\n was not found.",
     "output_type": "error",
     "traceback": [
      "\u001b[0;31m---------------------------------------------------------------------------\u001b[0m",
      "\u001b[0;31mDefaultCredentialsError\u001b[0m                   Traceback (most recent call last)",
      "\u001b[0;32m/tmp/ipykernel_8842/2339352001.py\u001b[0m in \u001b[0;36m<module>\u001b[0;34m\u001b[0m\n\u001b[0;32m----> 1\u001b[0;31m audience_overview_df = pull_from_ga_into_df(\n\u001b[0m\u001b[1;32m      2\u001b[0m     \u001b[0mquery_map\u001b[0m\u001b[0;34m[\u001b[0m\u001b[0;34m\"AudienceOverview\"\u001b[0m\u001b[0;34m]\u001b[0m\u001b[0;34m[\u001b[0m\u001b[0;34m\"dimensions\"\u001b[0m\u001b[0;34m]\u001b[0m\u001b[0;34m,\u001b[0m\u001b[0;34m\u001b[0m\u001b[0;34m\u001b[0m\u001b[0m\n\u001b[1;32m      3\u001b[0m     \u001b[0mquery_map\u001b[0m\u001b[0;34m[\u001b[0m\u001b[0;34m\"AudienceOverview\"\u001b[0m\u001b[0;34m]\u001b[0m\u001b[0;34m[\u001b[0m\u001b[0;34m\"metrics\"\u001b[0m\u001b[0;34m]\u001b[0m\u001b[0;34m,\u001b[0m\u001b[0;34m\u001b[0m\u001b[0;34m\u001b[0m\u001b[0m\n\u001b[1;32m      4\u001b[0m     \u001b[0mquery_map\u001b[0m\u001b[0;34m[\u001b[0m\u001b[0;34m\"AudienceOverview\"\u001b[0m\u001b[0;34m]\u001b[0m\u001b[0;34m[\u001b[0m\u001b[0;34m\"order_by\"\u001b[0m\u001b[0;34m]\u001b[0m\u001b[0;34m,\u001b[0m\u001b[0;34m\u001b[0m\u001b[0;34m\u001b[0m\u001b[0m\n\u001b[1;32m      5\u001b[0m )\n",
      "\u001b[0;32m/tmp/ipykernel_8842/277431661.py\u001b[0m in \u001b[0;36mpull_from_ga_into_df\u001b[0;34m(dimensions, metrics, order_by)\u001b[0m\n\u001b[1;32m     10\u001b[0m     \u001b[0;31m# Using a default constructor instructs the client to use the credentials\u001b[0m\u001b[0;34m\u001b[0m\u001b[0;34m\u001b[0m\u001b[0m\n\u001b[1;32m     11\u001b[0m     \u001b[0;31m# specified in GOOGLE_APPLICATION_CREDENTIALS environment variable.\u001b[0m\u001b[0;34m\u001b[0m\u001b[0;34m\u001b[0m\u001b[0m\n\u001b[0;32m---> 12\u001b[0;31m     \u001b[0mclient\u001b[0m \u001b[0;34m=\u001b[0m \u001b[0mBetaAnalyticsDataClient\u001b[0m\u001b[0;34m(\u001b[0m\u001b[0;34m)\u001b[0m\u001b[0;34m\u001b[0m\u001b[0;34m\u001b[0m\u001b[0m\n\u001b[0m\u001b[1;32m     13\u001b[0m     \u001b[0mproperty_id\u001b[0m\u001b[0;34m=\u001b[0m\u001b[0;34m\"353368209\"\u001b[0m\u001b[0;34m\u001b[0m\u001b[0;34m\u001b[0m\u001b[0m\n\u001b[1;32m     14\u001b[0m \u001b[0;34m\u001b[0m\u001b[0m\n",
      "\u001b[0;32m~/.local/lib/python3.10/site-packages/google/analytics/data_v1beta/services/beta_analytics_data/client.py\u001b[0m in \u001b[0;36m__init__\u001b[0;34m(self, credentials, transport, client_options, client_info)\u001b[0m\n\u001b[1;32m    424\u001b[0m \u001b[0;34m\u001b[0m\u001b[0m\n\u001b[1;32m    425\u001b[0m             \u001b[0mTransport\u001b[0m \u001b[0;34m=\u001b[0m \u001b[0mtype\u001b[0m\u001b[0;34m(\u001b[0m\u001b[0mself\u001b[0m\u001b[0;34m)\u001b[0m\u001b[0;34m.\u001b[0m\u001b[0mget_transport_class\u001b[0m\u001b[0;34m(\u001b[0m\u001b[0mtransport\u001b[0m\u001b[0;34m)\u001b[0m\u001b[0;34m\u001b[0m\u001b[0;34m\u001b[0m\u001b[0m\n\u001b[0;32m--> 426\u001b[0;31m             self._transport = Transport(\n\u001b[0m\u001b[1;32m    427\u001b[0m                 \u001b[0mcredentials\u001b[0m\u001b[0;34m=\u001b[0m\u001b[0mcredentials\u001b[0m\u001b[0;34m,\u001b[0m\u001b[0;34m\u001b[0m\u001b[0;34m\u001b[0m\u001b[0m\n\u001b[1;32m    428\u001b[0m                 \u001b[0mcredentials_file\u001b[0m\u001b[0;34m=\u001b[0m\u001b[0mclient_options\u001b[0m\u001b[0;34m.\u001b[0m\u001b[0mcredentials_file\u001b[0m\u001b[0;34m,\u001b[0m\u001b[0;34m\u001b[0m\u001b[0;34m\u001b[0m\u001b[0m\n",
      "\u001b[0;32m~/.local/lib/python3.10/site-packages/google/analytics/data_v1beta/services/beta_analytics_data/transports/grpc.py\u001b[0m in \u001b[0;36m__init__\u001b[0;34m(self, host, credentials, credentials_file, scopes, channel, api_mtls_endpoint, client_cert_source, ssl_channel_credentials, client_cert_source_for_mtls, quota_project_id, client_info, always_use_jwt_access, api_audience)\u001b[0m\n\u001b[1;32m    146\u001b[0m \u001b[0;34m\u001b[0m\u001b[0m\n\u001b[1;32m    147\u001b[0m         \u001b[0;31m# The base transport sets the host, credentials and scopes\u001b[0m\u001b[0;34m\u001b[0m\u001b[0;34m\u001b[0m\u001b[0m\n\u001b[0;32m--> 148\u001b[0;31m         super().__init__(\n\u001b[0m\u001b[1;32m    149\u001b[0m             \u001b[0mhost\u001b[0m\u001b[0;34m=\u001b[0m\u001b[0mhost\u001b[0m\u001b[0;34m,\u001b[0m\u001b[0;34m\u001b[0m\u001b[0;34m\u001b[0m\u001b[0m\n\u001b[1;32m    150\u001b[0m             \u001b[0mcredentials\u001b[0m\u001b[0;34m=\u001b[0m\u001b[0mcredentials\u001b[0m\u001b[0;34m,\u001b[0m\u001b[0;34m\u001b[0m\u001b[0;34m\u001b[0m\u001b[0m\n",
      "\u001b[0;32m~/.local/lib/python3.10/site-packages/google/analytics/data_v1beta/services/beta_analytics_data/transports/base.py\u001b[0m in \u001b[0;36m__init__\u001b[0;34m(self, host, credentials, credentials_file, scopes, quota_project_id, client_info, always_use_jwt_access, api_audience, **kwargs)\u001b[0m\n\u001b[1;32m     98\u001b[0m             )\n\u001b[1;32m     99\u001b[0m         \u001b[0;32melif\u001b[0m \u001b[0mcredentials\u001b[0m \u001b[0;32mis\u001b[0m \u001b[0;32mNone\u001b[0m\u001b[0;34m:\u001b[0m\u001b[0;34m\u001b[0m\u001b[0;34m\u001b[0m\u001b[0m\n\u001b[0;32m--> 100\u001b[0;31m             credentials, _ = google.auth.default(\n\u001b[0m\u001b[1;32m    101\u001b[0m                 \u001b[0;34m**\u001b[0m\u001b[0mscopes_kwargs\u001b[0m\u001b[0;34m,\u001b[0m \u001b[0mquota_project_id\u001b[0m\u001b[0;34m=\u001b[0m\u001b[0mquota_project_id\u001b[0m\u001b[0;34m\u001b[0m\u001b[0;34m\u001b[0m\u001b[0m\n\u001b[1;32m    102\u001b[0m             )\n",
      "\u001b[0;32m~/.local/lib/python3.10/site-packages/google/auth/_default.py\u001b[0m in \u001b[0;36mdefault\u001b[0;34m(scopes, request, quota_project_id, default_scopes)\u001b[0m\n\u001b[1;32m    613\u001b[0m \u001b[0;34m\u001b[0m\u001b[0m\n\u001b[1;32m    614\u001b[0m     \u001b[0;32mfor\u001b[0m \u001b[0mchecker\u001b[0m \u001b[0;32min\u001b[0m \u001b[0mcheckers\u001b[0m\u001b[0;34m:\u001b[0m\u001b[0;34m\u001b[0m\u001b[0;34m\u001b[0m\u001b[0m\n\u001b[0;32m--> 615\u001b[0;31m         \u001b[0mcredentials\u001b[0m\u001b[0;34m,\u001b[0m \u001b[0mproject_id\u001b[0m \u001b[0;34m=\u001b[0m \u001b[0mchecker\u001b[0m\u001b[0;34m(\u001b[0m\u001b[0;34m)\u001b[0m\u001b[0;34m\u001b[0m\u001b[0;34m\u001b[0m\u001b[0m\n\u001b[0m\u001b[1;32m    616\u001b[0m         \u001b[0;32mif\u001b[0m \u001b[0mcredentials\u001b[0m \u001b[0;32mis\u001b[0m \u001b[0;32mnot\u001b[0m \u001b[0;32mNone\u001b[0m\u001b[0;34m:\u001b[0m\u001b[0;34m\u001b[0m\u001b[0;34m\u001b[0m\u001b[0m\n\u001b[1;32m    617\u001b[0m             credentials = with_scopes_if_required(\n",
      "\u001b[0;32m~/.local/lib/python3.10/site-packages/google/auth/_default.py\u001b[0m in \u001b[0;36m<lambda>\u001b[0;34m()\u001b[0m\n\u001b[1;32m    606\u001b[0m         \u001b[0;31m# safely set on the returned credentials since requires_scopes will\u001b[0m\u001b[0;34m\u001b[0m\u001b[0;34m\u001b[0m\u001b[0m\n\u001b[1;32m    607\u001b[0m         \u001b[0;31m# guard against setting scopes on user credentials.\u001b[0m\u001b[0;34m\u001b[0m\u001b[0;34m\u001b[0m\u001b[0m\n\u001b[0;32m--> 608\u001b[0;31m         \u001b[0;32mlambda\u001b[0m\u001b[0;34m:\u001b[0m \u001b[0m_get_explicit_environ_credentials\u001b[0m\u001b[0;34m(\u001b[0m\u001b[0mquota_project_id\u001b[0m\u001b[0;34m=\u001b[0m\u001b[0mquota_project_id\u001b[0m\u001b[0;34m)\u001b[0m\u001b[0;34m,\u001b[0m\u001b[0;34m\u001b[0m\u001b[0;34m\u001b[0m\u001b[0m\n\u001b[0m\u001b[1;32m    609\u001b[0m         \u001b[0;32mlambda\u001b[0m\u001b[0;34m:\u001b[0m \u001b[0m_get_gcloud_sdk_credentials\u001b[0m\u001b[0;34m(\u001b[0m\u001b[0mquota_project_id\u001b[0m\u001b[0;34m=\u001b[0m\u001b[0mquota_project_id\u001b[0m\u001b[0;34m)\u001b[0m\u001b[0;34m,\u001b[0m\u001b[0;34m\u001b[0m\u001b[0;34m\u001b[0m\u001b[0m\n\u001b[1;32m    610\u001b[0m         \u001b[0m_get_gae_credentials\u001b[0m\u001b[0;34m,\u001b[0m\u001b[0;34m\u001b[0m\u001b[0;34m\u001b[0m\u001b[0m\n",
      "\u001b[0;32m~/.local/lib/python3.10/site-packages/google/auth/_default.py\u001b[0m in \u001b[0;36m_get_explicit_environ_credentials\u001b[0;34m(quota_project_id)\u001b[0m\n\u001b[1;32m    226\u001b[0m \u001b[0;34m\u001b[0m\u001b[0m\n\u001b[1;32m    227\u001b[0m     \u001b[0;32mif\u001b[0m \u001b[0mexplicit_file\u001b[0m \u001b[0;32mis\u001b[0m \u001b[0;32mnot\u001b[0m \u001b[0;32mNone\u001b[0m\u001b[0;34m:\u001b[0m\u001b[0;34m\u001b[0m\u001b[0;34m\u001b[0m\u001b[0m\n\u001b[0;32m--> 228\u001b[0;31m         credentials, project_id = load_credentials_from_file(\n\u001b[0m\u001b[1;32m    229\u001b[0m             \u001b[0mos\u001b[0m\u001b[0;34m.\u001b[0m\u001b[0menviron\u001b[0m\u001b[0;34m[\u001b[0m\u001b[0menvironment_vars\u001b[0m\u001b[0;34m.\u001b[0m\u001b[0mCREDENTIALS\u001b[0m\u001b[0;34m]\u001b[0m\u001b[0;34m,\u001b[0m \u001b[0mquota_project_id\u001b[0m\u001b[0;34m=\u001b[0m\u001b[0mquota_project_id\u001b[0m\u001b[0;34m\u001b[0m\u001b[0;34m\u001b[0m\u001b[0m\n\u001b[1;32m    230\u001b[0m         )\n",
      "\u001b[0;32m~/.local/lib/python3.10/site-packages/google/auth/_default.py\u001b[0m in \u001b[0;36mload_credentials_from_file\u001b[0;34m(filename, scopes, default_scopes, quota_project_id, request)\u001b[0m\n\u001b[1;32m    114\u001b[0m     \"\"\"\n\u001b[1;32m    115\u001b[0m     \u001b[0;32mif\u001b[0m \u001b[0;32mnot\u001b[0m \u001b[0mos\u001b[0m\u001b[0;34m.\u001b[0m\u001b[0mpath\u001b[0m\u001b[0;34m.\u001b[0m\u001b[0mexists\u001b[0m\u001b[0;34m(\u001b[0m\u001b[0mfilename\u001b[0m\u001b[0;34m)\u001b[0m\u001b[0;34m:\u001b[0m\u001b[0;34m\u001b[0m\u001b[0;34m\u001b[0m\u001b[0m\n\u001b[0;32m--> 116\u001b[0;31m         raise exceptions.DefaultCredentialsError(\n\u001b[0m\u001b[1;32m    117\u001b[0m             \u001b[0;34m\"File {} was not found.\"\u001b[0m\u001b[0;34m.\u001b[0m\u001b[0mformat\u001b[0m\u001b[0;34m(\u001b[0m\u001b[0mfilename\u001b[0m\u001b[0;34m)\u001b[0m\u001b[0;34m\u001b[0m\u001b[0;34m\u001b[0m\u001b[0m\n\u001b[1;32m    118\u001b[0m         )\n",
      "\u001b[0;31mDefaultCredentialsError\u001b[0m: File /media/seanpe/Data/Work/UnicornConnect/avc_google_analytics/service-account.json\n was not found."
     ]
    }
   ],
   "source": [
    "audience_overview_df = pull_from_ga_into_df(\n",
    "    query_map[\"AudienceOverview\"][\"dimensions\"], \n",
    "    query_map[\"AudienceOverview\"][\"metrics\"],\n",
    "    query_map[\"AudienceOverview\"][\"order_by\"],\n",
    ")\n",
    "audience_overview_df"
   ]
  },
  {
   "cell_type": "code",
   "execution_count": null,
   "id": "a1db3c1c",
   "metadata": {},
   "outputs": [],
   "source": [
    "audience_overview_df"
   ]
  },
  {
   "cell_type": "code",
   "execution_count": null,
   "id": "366e01ba",
   "metadata": {},
   "outputs": [],
   "source": [
    "query_map[\"AudienceByHour\"] = {\n",
    "    \"metrics\": [\n",
    "        \"averageSessionDuration\",\n",
    "        \"bounceRate\",\n",
    "        \"newUsers\",\n",
    "        \"sessionsPerUser\",\n",
    "        \"screenPageViewsPerSession\",\n",
    "        \"screenPageViews\",\n",
    "        \"sessions\",\n",
    "        \"activeUsers\", # not sure if this is what we want for the api\n",
    "    ],\n",
    "    \"dimensions\": [\n",
    "        \"date\",\n",
    "        \"dateHour\",\n",
    "        \"hostName\",\n",
    "    ],\n",
    "    \"order_by\": \"dateHour\",\n",
    "}"
   ]
  },
  {
   "cell_type": "code",
   "execution_count": null,
   "id": "2a60c4c8",
   "metadata": {},
   "outputs": [],
   "source": [
    "audience_by_hour_df = pull_from_ga_into_df(\n",
    "    query_map[\"AudienceByHour\"][\"dimensions\"], \n",
    "    query_map[\"AudienceByHour\"][\"metrics\"],\n",
    "    query_map[\"AudienceByHour\"][\"order_by\"],\n",
    ")\n",
    "audience_by_hour_df"
   ]
  },
  {
   "cell_type": "code",
   "execution_count": null,
   "id": "7352734b",
   "metadata": {},
   "outputs": [],
   "source": [
    "query_map[\"AudienceByCategory\"] = {\n",
    "    \"metrics\": [\n",
    "        \"newUsers\",\n",
    "        \"activeUsers\", # not sure if this is what we want for the api\n",
    "    ],\n",
    "    \"dimensions\": [\n",
    "        \"date\",\n",
    "        \"country\",\n",
    "        \"deviceCategory\",\n",
    "        \"language\",\n",
    "#         \"pagePath\", ## this makes the request incompatible\n",
    "    ],\n",
    "    \"order_by\": \"date\",\n",
    "}"
   ]
  },
  {
   "cell_type": "code",
   "execution_count": null,
   "id": "7d29518d",
   "metadata": {},
   "outputs": [],
   "source": [
    "audience_by_category_df = pull_from_ga_into_df(\n",
    "    query_map[\"AudienceByCategory\"][\"dimensions\"], \n",
    "    query_map[\"AudienceByCategory\"][\"metrics\"],\n",
    "    query_map[\"AudienceByCategory\"][\"order_by\"],\n",
    ")\n",
    "audience_by_category_df"
   ]
  },
  {
   "cell_type": "code",
   "execution_count": null,
   "id": "a42a3db8",
   "metadata": {},
   "outputs": [],
   "source": [
    "query_map[\"GaOrders\"] = {\n",
    "    \"metrics\": [\n",
    "        \"purchaseRevenue\",\n",
    "        \"activeUsers\", # not sure if this is what we want for the api\n",
    "    ],\n",
    "    \"dimensions\": [\n",
    "        \"month\",\n",
    "        \"date\",\n",
    "        \"transactionId\",\n",
    "        \"campaignName\",\n",
    "    ],\n",
    "    \"order_by\": \"campaignName\",\n",
    "}"
   ]
  },
  {
   "cell_type": "code",
   "execution_count": null,
   "id": "ec212bc6",
   "metadata": {},
   "outputs": [],
   "source": [
    "ga_orders_df = pull_from_ga_into_df(\n",
    "    query_map[\"GaOrders\"][\"dimensions\"], \n",
    "    query_map[\"GaOrders\"][\"metrics\"],\n",
    "    query_map[\"GaOrders\"][\"order_by\"],\n",
    ")\n",
    "ga_orders_df"
   ]
  },
  {
   "cell_type": "code",
   "execution_count": null,
   "id": "45a168e8",
   "metadata": {},
   "outputs": [],
   "source": [
    "query_map[\"PageTitleViews\"] = {\n",
    "    \"metrics\": [\n",
    "        \"screenPageViews\", # not sure either\n",
    "    ],\n",
    "    \"dimensions\": [\n",
    "        \"date\",\n",
    "        \"hostName\",\n",
    "        \"landingPagePlusQueryString\",\n",
    "        \"pagePath\", # could alternatively be pageLocation\n",
    "        \"pageTitle\",\n",
    "        \"percentScrolled\", # assuming this is page depth\n",
    "    ],\n",
    "    \"order_by\": \"date\",\n",
    "}"
   ]
  },
  {
   "cell_type": "code",
   "execution_count": null,
   "id": "fdfe6c84",
   "metadata": {},
   "outputs": [],
   "source": [
    "page_title_views_df = pull_from_ga_into_df(\n",
    "    query_map[\"PageTitleViews\"][\"dimensions\"], \n",
    "    query_map[\"PageTitleViews\"][\"metrics\"],\n",
    "    query_map[\"PageTitleViews\"][\"order_by\"],\n",
    ")\n",
    "page_title_views_df"
   ]
  },
  {
   "cell_type": "code",
   "execution_count": null,
   "id": "cdbc94c2",
   "metadata": {},
   "outputs": [],
   "source": [
    "query_map[\"Acquisition\"] = {\n",
    "    \"metrics\": [\n",
    "        \"averageSessionDuration\",\n",
    "        \"bounceRate\",\n",
    "        \"totalRevenue\",\n",
    "        \"screenPageViewsPerSession\",\n",
    "        \"sessions\",\n",
    "        \"newUsers\",\n",
    "        \"totalUsers\",\n",
    "    ],\n",
    "    \"dimensions\": [\n",
    "        \"date\",\n",
    "#         \"campaignName\",\n",
    "        \"month\",\n",
    "        \"transactionId\",\n",
    "#         \"sourceMedium\",\n",
    "        \"adSourceName\", # alternatively firstUserGoogleAdsAdNetworkType, \n",
    "        # googleAdsAdNetworkType, sessionGoogleAdsAdNetworkType\n",
    "        \"hostName\",\n",
    "    ],\n",
    "    \"order_by\": \"date\",\n",
    "}"
   ]
  },
  {
   "cell_type": "code",
   "execution_count": null,
   "id": "65c68c57",
   "metadata": {},
   "outputs": [],
   "source": [
    "acquisition_df = pull_from_ga_into_df(\n",
    "    query_map[\"Acquisition\"][\"dimensions\"], \n",
    "    query_map[\"Acquisition\"][\"metrics\"],\n",
    "    query_map[\"Acquisition\"][\"order_by\"],\n",
    ")\n",
    "acquisition_df"
   ]
  }
 ],
 "metadata": {
  "kernelspec": {
   "display_name": "Python 3 (ipykernel)",
   "language": "python",
   "name": "python3"
  },
  "language_info": {
   "codemirror_mode": {
    "name": "ipython",
    "version": 3
   },
   "file_extension": ".py",
   "mimetype": "text/x-python",
   "name": "python",
   "nbconvert_exporter": "python",
   "pygments_lexer": "ipython3",
   "version": "3.10.6"
  }
 },
 "nbformat": 4,
 "nbformat_minor": 5
}
